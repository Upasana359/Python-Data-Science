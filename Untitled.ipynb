{
 "cells": [
  {
   "cell_type": "code",
   "execution_count": 11,
   "metadata": {},
   "outputs": [
    {
     "name": "stdout",
     "output_type": "stream",
     "text": [
      "290.4737509655563\n"
     ]
    }
   ],
   "source": [
    "s1=20\n",
    "s2=30\n",
    "s3=40\n",
    "s=(s1+s2+s3)/2\n",
    "area=(s*(s-s1)*(s-s2)*(s-s3))**(1/2)\n",
    "print (area)\n"
   ]
  },
  {
   "cell_type": "code",
   "execution_count": 2,
   "metadata": {},
   "outputs": [
    {
     "name": "stdout",
     "output_type": "stream",
     "text": [
      "1000.0\n"
     ]
    }
   ],
   "source": [
    "p=1000\n",
    "r=10\n",
    "t=10\n",
    "print((p*r*t)/100)"
   ]
  },
  {
   "cell_type": "code",
   "execution_count": 3,
   "metadata": {},
   "outputs": [
    {
     "name": "stdout",
     "output_type": "stream",
     "text": [
      "100\n"
     ]
    }
   ],
   "source": [
    "s=10\n",
    "print(s**2)"
   ]
  },
  {
   "cell_type": "code",
   "execution_count": 12,
   "metadata": {},
   "outputs": [
    {
     "name": "stdout",
     "output_type": "stream",
     "text": [
      "100\n"
     ]
    }
   ],
   "source": [
    "sp=1000\n",
    "cp=900\n",
    "if (sp>cp):\n",
    "    profit=sp-cp\n",
    "    print (profit)\n",
    "else:\n",
    "    loss=cp-sp\n",
    "    print (loss){\n",
    " \"cells\": [\n",
    "  {\n",
    "   \"cell_type\": \"code\",\n",
    "   \"execution_count\": 11,\n",
    "   \"metadata\": {},\n",
    "   \"outputs\": [\n",
    "    {\n",
    "     \"name\": \"stdout\",\n",
    "     \"output_type\": \"stream\",\n",
    "     \"text\": [\n",
    "      \"290.4737509655563\\n\"\n",
    "     ]\n",
    "    }\n",
    "   ],\n",
    "   \"source\": [\n",
    "    \"s1=20\\n\",\n",
    "    \"s2=30\\n\",\n",
    "    \"s3=40\\n\",\n",
    "    \"s=(s1+s2+s3)/2\\n\",\n",
    "    \"area=(s*(s-s1)*(s-s2)*(s-s3))**(1/2)\\n\",\n",
    "    \"print (area)\\n\"\n",
    "   ]\n",
    "  },\n",
    "  {\n",
    "   \"cell_type\": \"code\",\n",
    "   \"execution_count\": 2,\n",
    "   \"metadata\": {},\n",
    "   \"outputs\": [\n",
    "    {\n",
    "     \"name\": \"stdout\",\n",
    "     \"output_type\": \"stream\",\n",
    "     \"text\": [\n",
    "      \"1000.0\\n\"\n",
    "     ]\n",
    "    }\n",
    "   ],\n",
    "   \"source\": [\n",
    "    \"p=1000\\n\",\n",
    "    \"r=10\\n\",\n",
    "    \"t=10\\n\",\n",
    "    \"print((p*r*t)/100)\"\n",
    "   ]\n",
    "  },\n",
    "  {\n",
    "   \"cell_type\": \"code\",\n",
    "   \"execution_count\": 3,\n",
    "   \"metadata\": {},\n",
    "   \"outputs\": [\n",
    "    {\n",
    "     \"name\": \"stdout\",\n",
    "     \"output_type\": \"stream\",\n",
    "     \"text\": [\n",
    "      \"100\\n\"\n",
    "     ]\n",
    "    }\n",
    "   ],\n",
    "   \"source\": [\n",
    "    \"s=10\\n\",\n",
    "    \"print(s**2)\"\n",
    "   ]\n",
    "  },\n",
    "  {\n",
    "   \"cell_type\": \"code\",\n",
    "   \"execution_count\": 12,\n",
    "   \"metadata\": {},\n",
    "   \"outputs\": [\n",
    "    {\n",
    "     \"name\": \"stdout\",\n",
    "     \"output_type\": \"stream\",\n",
    "     \"text\": [\n",
    "      \"100\\n\"\n",
    "     ]\n",
    "    }\n",
    "   ],\n",
    "   \"source\": [\n",
    "    \"sp=1000\\n\",\n",
    "    \"cp=900\\n\",\n",
    "    \"if (sp>cp):\\n\",\n",
    "    \"    profit=sp-cp\\n\",\n",
    "    \"    print (profit)\\n\",\n",
    "    \"else:\\n\",\n",
    "    \"    loss=cp-sp\\n\",\n",
    "    \"    print (loss)\"\n",
    "   ]\n",
    "  },\n",
    "  {\n",
    "   \"cell_type\": \"code\",\n",
    "   \"execution_count\": 14,\n",
    "   \"metadata\": {},\n",
    "   \"outputs\": [\n",
    "    {\n",
    "     \"name\": \"stdout\",\n",
    "     \"output_type\": \"stream\",\n",
    "     \"text\": [\n",
    "      \"Yayy!! No Tax\\n\"\n",
    "     ]\n",
    "    }\n",
    "   ],\n",
    "   \"source\": [\n",
    "    \"income=600000\\n\",\n",
    "    \"if (income<500000):\\n\",\n",
    "    \"    print(\\\"Yayy!! No Tax\\\")\\n\",\n",
    "    \"else:\\n\",\n",
    "    \"    it=(income*18)/100\\n\",\n",
    "    \"    print (it)\\n\",\n",
    "    \"    income_after_itr=income-it\\n\",\n",
    "    \"    print (income_after_itr)\"\n",
    "   ]\n",
    "  },\n",
    "  {\n",
    "   \"cell_type\": \"code\",\n",
    "   \"execution_count\": 15,\n",
    "   \"metadata\": {},\n",
    "   \"outputs\": [\n",
    "    {\n",
    "     \"name\": \"stdout\",\n",
    "     \"output_type\": \"stream\",\n",
    "     \"text\": [\n",
    "      \"5400.0\\n\"\n",
    "     ]\n",
    "    }\n",
    "   ],\n",
    "   \"source\": [\n",
    "    \"shopping_cart=6000\\n\",\n",
    "    \"if shopping_cart>5000:\\n\",\n",
    "    \"    amt_payable=shopping_cart-((shopping_cart*10)/100)\\n\",\n",
    "    \"    print(amt_payable)\\n\",\n",
    "    \"    \\n\",\n",
    "    \"else:\\n\",\n",
    "    \"    print(\\\"no discount\\\")\"\n",
    "   ]\n",
    "  },\n",
    "  {\n",
    "   \"cell_type\": \"code\",\n",
    "   \"execution_count\": 16,\n",
    "   \"metadata\": {},\n",
    "   \"outputs\": [\n",
    "    {\n",
    "     \"name\": \"stdout\",\n",
    "     \"output_type\": \"stream\",\n",
    "     \"text\": [\n",
    "      \"number is positive\\n\"\n",
    "     ]\n",
    "    }\n",
    "   ],\n",
    "   \"source\": [\n",
    "    \"num=10\\n\",\n",
    "    \"if(num >0):\\n\",\n",
    "    \"    print(\\\"number is positive\\\")\\n\",\n",
    "    \"    \\n\",\n",
    "    \"else:\\n\",\n",
    "    \"    print(\\\"number is negative\\\")\"\n",
    "   ]\n",
    "  },\n",
    "  {\n",
    "   \"cell_type\": \"code\",\n",
    "   \"execution_count\": 19,\n",
    "   \"metadata\": {},\n",
    "   \"outputs\": [\n",
    "    {\n",
    "     \"name\": \"stdout\",\n",
    "     \"output_type\": \"stream\",\n",
    "     \"text\": [\n",
    "      \"17 is greater\\n\"\n",
    "     ]\n",
    "    }\n",
    "   ],\n",
    "   \"source\": [\n",
    "    \"a=17\\n\",\n",
    "    \"b=16\\n\",\n",
    "    \"if a>b:\\n\",\n",
    "    \"    print(a,\\\"is greater\\\")\\n\",\n",
    "    \"elif a==b:\\n\",\n",
    "    \"    print(\\\"both are equal\\\")\\n\",\n",
    "    \"else:\\n\",\n",
    "    \"    print(b,\\\"is greater\\\")\"\n",
    "   ]\n",
    "  },\n",
    "  {\n",
    "   \"cell_type\": \"code\",\n",
    "   \"execution_count\": 18,\n",
    "   \"metadata\": {},\n",
    "   \"outputs\": [\n",
    "    {\n",
    "     \"name\": \"stdout\",\n",
    "     \"output_type\": \"stream\",\n",
    "     \"text\": [\n",
    "      \"30\\n\"\n",
    "     ]\n",
    "    }\n",
    "   ],\n",
    "   \"source\": [\n",
    "    \"n1=10\\n\",\n",
    "    \"n2=20\\n\",\n",
    "    \"n3=30\\n\",\n",
    "    \"if(n1>n2 and n1>n3):\\n\",\n",
    "    \"    print (n1)\\n\",\n",
    "    \"elif(n2>n1 and n2>n3):\\n\",\n",
    "    \"    print (n2)\\n\",\n",
    "    \"else:\\n\",\n",
    "    \"    print (n3)\"\n",
    "   ]\n",
    "  },\n",
    "  {\n",
    "   \"cell_type\": \"code\",\n",
    "   \"execution_count\": 20,\n",
    "   \"metadata\": {},\n",
    "   \"outputs\": [\n",
    "    {\n",
    "     \"name\": \"stdout\",\n",
    "     \"output_type\": \"stream\",\n",
    "     \"text\": [\n",
    "      \"10\\n\"\n",
    "     ]\n",
    "    }\n",
    "   ],\n",
    "   \"source\": [\n",
    "    \"n1=10\\n\",\n",
    "    \"n2=20\\n\",\n",
    "    \"n3=30\\n\",\n",
    "    \"if(n1<n2 and n1<n3):\\n\",\n",
    "    \"    print (n1)\\n\",\n",
    "    \"elif(n2<n1 and n2<n3):\\n\",\n",
    "    \"    print (n2)\\n\",\n",
    "    \"else:\\n\",\n",
    "    \"    print (n3)\"\n",
    "   ]\n",
    "  },\n",
    "  {\n",
    "   \"cell_type\": \"code\",\n",
    "   \"execution_count\": null,\n",
    "   \"metadata\": {},\n",
    "   \"outputs\": [],\n",
    "   \"source\": []\n",
    "  }\n",
    " ],\n",
    " \"metadata\": {\n",
    "  \"kernelspec\": {\n",
    "   \"display_name\": \"Python 3\",\n",
    "   \"language\": \"python\",\n",
    "   \"name\": \"python3\"\n",
    "  },\n",
    "  \"language_info\": {\n",
    "   \"codemirror_mode\": {\n",
    "    \"name\": \"ipython\",\n",
    "    \"version\": 3\n",
    "   },\n",
    "   \"file_extension\": \".py\",\n",
    "   \"mimetype\": \"text/x-python\",\n",
    "   \"name\": \"python\",\n",
    "   \"nbconvert_exporter\": \"python\",\n",
    "   \"pygments_lexer\": \"ipython3\",\n",
    "   \"version\": \"3.7.6\"\n",
    "  }\n",
    " },\n",
    " \"nbformat\": 4,\n",
    " \"nbformat_minor\": 4\n",
    "}\n"
   ]
  },
  {
   "cell_type": "code",
   "execution_count": 14,
   "metadata": {},
   "outputs": [
    {
     "name": "stdout",
     "output_type": "stream",
     "text": [
      "Yayy!! No Tax\n"
     ]
    }
   ],
   "source": [
    "income=600000\n",
    "if (income<500000):\n",
    "    print(\"Yayy!! No Tax\")\n",
    "else:\n",
    "    it=(income*18)/100\n",
    "    print (it)\n",
    "    income_after_itr=income-it\n",
    "    print (income_after_itr)"
   ]
  },
  {
   "cell_type": "code",
   "execution_count": 15,
   "metadata": {},
   "outputs": [
    {
     "name": "stdout",
     "output_type": "stream",
     "text": [
      "5400.0\n"
     ]
    }
   ],
   "source": [
    "shopping_cart=6000\n",
    "if shopping_cart>5000:\n",
    "    amt_payable=shopping_cart-((shopping_cart*10)/100)\n",
    "    print(amt_payable)\n",
    "    \n",
    "else:\n",
    "    print(\"no discount\")"
   ]
  },
  {
   "cell_type": "code",
   "execution_count": 16,
   "metadata": {},
   "outputs": [
    {
     "name": "stdout",
     "output_type": "stream",
     "text": [
      "number is positive\n"
     ]
    }
   ],
   "source": [
    "num=10\n",
    "if(num >0):\n",
    "    print(\"number is positive\")\n",
    "    \n",
    "else:\n",
    "    print(\"number is negative\")"
   ]
  },
  {
   "cell_type": "code",
   "execution_count": 19,
   "metadata": {},
   "outputs": [
    {
     "name": "stdout",
     "output_type": "stream",
     "text": [
      "17 is greater\n"
     ]
    }
   ],
   "source": [
    "a=17\n",
    "b=16\n",
    "if a>b:\n",
    "    print(a,\"is greater\")\n",
    "elif a==b:\n",
    "    print(\"both are equal\")\n",
    "else:\n",
    "    print(b,\"is greater\")"
   ]
  },
  {
   "cell_type": "code",
   "execution_count": 18,
   "metadata": {},
   "outputs": [
    {
     "name": "stdout",
     "output_type": "stream",
     "text": [
      "30\n"
     ]
    }
   ],
   "source": [
    "n1=10\n",
    "n2=20\n",
    "n3=30\n",
    "if(n1>n2 and n1>n3):\n",
    "    print (n1)\n",
    "elif(n2>n1 and n2>n3):\n",
    "    print (n2)\n",
    "else:\n",
    "    print (n3)"
   ]
  },
  {
   "cell_type": "code",
   "execution_count": 20,
   "metadata": {},
   "outputs": [
    {
     "name": "stdout",
     "output_type": "stream",
     "text": [
      "10\n"
     ]
    }
   ],
   "source": [
    "n1=10\n",
    "n2=20\n",
    "n3=30\n",
    "if(n1<n2 and n1<n3):\n",
    "    print (n1)\n",
    "elif(n2<n1 and n2<n3):\n",
    "    print (n2)\n",
    "else:\n",
    "    print (n3)"
   ]
  },
  {
   "cell_type": "code",
   "execution_count": null,
   "metadata": {},
   "outputs": [],
   "source": []
  }
 ],
 "metadata": {
  "kernelspec": {
   "display_name": "Python 3",
   "language": "python",
   "name": "python3"
  },
  "language_info": {
   "codemirror_mode": {
    "name": "ipython",
    "version": 3
   },
   "file_extension": ".py",
   "mimetype": "text/x-python",
   "name": "python",
   "nbconvert_exporter": "python",
   "pygments_lexer": "ipython3",
   "version": "3.7.6"
  }
 },
 "nbformat": 4,
 "nbformat_minor": 4
}
