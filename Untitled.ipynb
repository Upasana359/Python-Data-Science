{
 "cells": [
  {
   "cell_type": "code",
   "execution_count": 11,
   "metadata": {},
   "outputs": [
    {
     "name": "stdout",
     "output_type": "stream",
     "text": [
      "290.4737509655563\n"
     ]
    }
   ],
   "source": [
    "s1=20\n",
    "s2=30\n",
    "s3=40\n",
    "s=(s1+s2+s3)/2\n",
    "area=(s*(s-s1)*(s-s2)*(s-s3))**(1/2)\n",
    "print (area)\n"
   ]
  },
  {
   "cell_type": "code",
   "execution_count": 2,
   "metadata": {},
   "outputs": [
    {
     "name": "stdout",
     "output_type": "stream",
     "text": [
      "1000.0\n"
     ]
    }
   ],
   "source": [
    "p=1000\n",
    "r=10\n",
    "t=10\n",
    "print((p*r*t)/100)"
   ]
  },
  {
   "cell_type": "code",
   "execution_count": 3,
   "metadata": {},
   "outputs": [
    {
     "name": "stdout",
     "output_type": "stream",
     "text": [
      "100\n"
     ]
    }
   ],
   "source": [
    "s=10\n",
    "print(s**2)"
   ]
  },
  {
   "cell_type": "code",
   "execution_count": 12,
   "metadata": {},
   "outputs": [
    {
     "name": "stdout",
     "output_type": "stream",
     "text": [
      "100\n"
     ]
    }
   ],
   "source": [
    "sp=1000\n",
    "cp=900\n",
    "if (sp>cp):\n",
    "    profit=sp-cp\n",
    "    print (profit)\n",
    "else:\n",
    "    loss=cp-sp\n",
    "    print (loss){\n",
    " "
   ]
  },
  {
   "cell_type": "code",
   "execution_count": 14,
   "metadata": {},
   "outputs": [
    {
     "name": "stdout",
     "output_type": "stream",
     "text": [
      "Yayy!! No Tax\n"
     ]
    }
   ],
   "source": [
    "income=600000\n",
    "if (income<500000):\n",
    "    print(\"Yayy!! No Tax\")\n",
    "else:\n",
    "    it=(income*18)/100\n",
    "    print (it)\n",
    "    income_after_itr=income-it\n",
    "    print (income_after_itr)"
   ]
  },
  {
   "cell_type": "code",
   "execution_count": 15,
   "metadata": {},
   "outputs": [
    {
     "name": "stdout",
     "output_type": "stream",
     "text": [
      "5400.0\n"
     ]
    }
   ],
   "source": [
    "shopping_cart=6000\n",
    "if shopping_cart>5000:\n",
    "    amt_payable=shopping_cart-((shopping_cart*10)/100)\n",
    "    print(amt_payable)\n",
    "    \n",
    "else:\n",
    "    print(\"no discount\")"
   ]
  },
  {
   "cell_type": "code",
   "execution_count": 16,
   "metadata": {},
   "outputs": [
    {
     "name": "stdout",
     "output_type": "stream",
     "text": [
      "number is positive\n"
     ]
    }
   ],
   "source": [
    "num=10\n",
    "if(num >0):\n",
    "    print(\"number is positive\")\n",
    "    \n",
    "else:\n",
    "    print(\"number is negative\")"
   ]
  },
  {
   "cell_type": "code",
   "execution_count": 19,
   "metadata": {},
   "outputs": [
    {
     "name": "stdout",
     "output_type": "stream",
     "text": [
      "17 is greater\n"
     ]
    }
   ],
   "source": [
    "a=17\n",
    "b=16\n",
    "if a>b:\n",
    "    print(a,\"is greater\")\n",
    "elif a==b:\n",
    "    print(\"both are equal\")\n",
    "else:\n",
    "    print(b,\"is greater\")"
   ]
  },
  {
   "cell_type": "code",
   "execution_count": 21,
   "metadata": {},
   "outputs": [
    {
     "name": "stdout",
     "output_type": "stream",
     "text": [
      "30 is greatest\n"
     ]
    }
   ],
   "source": [
    "n1=10\n",
    "n2=20\n",
    "n3=30\n",
    "if(n1>n2 and n1>n3):\n",
    "    print (n1,\"is greatest\")\n",
    "elif(n2>n1 and n2>n3):\n",
    "    print (n2, \"is greatest\")\n",
    "else:\n",
    "    print (n3,\"is greatest\")"
   ]
  },
  {
   "cell_type": "code",
   "execution_count": 20,
   "metadata": {},
   "outputs": [
    {
     "name": "stdout",
     "output_type": "stream",
     "text": [
      "10\n"
     ]
    }
   ],
   "source": [
    "n1=10\n",
    "n2=20\n",
    "n3=30\n",
    "if(n1<n2 and n1<n3):\n",
    "    print (n1)\n",
    "elif(n2<n1 and n2<n3):\n",
    "    print (n2)\n",
    "else:\n",
    "    print (n3)"
   ]
  },
  {
   "cell_type": "code",
   "execution_count": 8,
   "metadata": {},
   "outputs": [
    {
     "name": "stdout",
     "output_type": "stream",
     "text": [
      "can attend party\n"
     ]
    }
   ],
   "source": [
    "is_college_student=\"yes\"\n",
    "paid_fee=\"no\"\n",
    "is_wearing_mask=\"yes\"\n",
    "if((is_college_student==\"yes\" or paid_fee==\"yes\") and is_wearing_mask==\"yes\"):\n",
    "    print(\"can attend party\")\n",
    "else:\n",
    "    print(\"not allowed to attend party\")g"
   ]
  },
  {
   "cell_type": "code",
   "execution_count": 9,
   "metadata": {},
   "outputs": [],
   "source": [
    "name=\"upasana\""
   ]
  },
  {
   "cell_type": "code",
   "execution_count": 10,
   "metadata": {},
   "outputs": [
    {
     "data": {
      "text/plain": [
       "str"
      ]
     },
     "execution_count": 10,
     "metadata": {},
     "output_type": "execute_result"
    }
   ],
   "source": [
    "type(name)"
   ]
  },
  {
   "cell_type": "code",
   "execution_count": 11,
   "metadata": {},
   "outputs": [
    {
     "data": {
      "text/plain": [
       "'upasana'"
      ]
     },
     "execution_count": 11,
     "metadata": {},
     "output_type": "execute_result"
    }
   ],
   "source": [
    "name"
   ]
  },
  {
   "cell_type": "code",
   "execution_count": 12,
   "metadata": {},
   "outputs": [
    {
     "ename": "SyntaxError",
     "evalue": "invalid syntax (<ipython-input-12-db6ec52505eb>, line 1)",
     "output_type": "error",
     "traceback": [
      "\u001b[1;36m  File \u001b[1;32m\"<ipython-input-12-db6ec52505eb>\"\u001b[1;36m, line \u001b[1;32m1\u001b[0m\n\u001b[1;33m    str1='I'm learning\u001b[0m\n\u001b[1;37m            ^\u001b[0m\n\u001b[1;31mSyntaxError\u001b[0m\u001b[1;31m:\u001b[0m invalid syntax\n"
     ]
    }
   ],
   "source": [
    "str1='I'm learning"
   ]
  },
  {
   "cell_type": "code",
   "execution_count": 13,
   "metadata": {},
   "outputs": [],
   "source": [
    "str1=\"I'm learning\""
   ]
  },
  {
   "cell_type": "code",
   "execution_count": 14,
   "metadata": {},
   "outputs": [
    {
     "data": {
      "text/plain": [
       "\"I'm learning\""
      ]
     },
     "execution_count": 14,
     "metadata": {},
     "output_type": "execute_result"
    }
   ],
   "source": [
    "str1"
   ]
  },
  {
   "cell_type": "code",
   "execution_count": 15,
   "metadata": {},
   "outputs": [],
   "source": [
    "str1='I\\'m learning'"
   ]
  },
  {
   "cell_type": "code",
   "execution_count": 16,
   "metadata": {},
   "outputs": [
    {
     "data": {
      "text/plain": [
       "\"I'm learning\""
      ]
     },
     "execution_count": 16,
     "metadata": {},
     "output_type": "execute_result"
    }
   ],
   "source": [
    "str1"
   ]
  },
  {
   "cell_type": "code",
   "execution_count": 17,
   "metadata": {},
   "outputs": [
    {
     "name": "stdout",
     "output_type": "stream",
     "text": [
      "Hi Hello Good to see you "
     ]
    }
   ],
   "source": [
    "print(\"Hi\",end=\" \")\n",
    "print(\"Hello\",end=\" \")\n",
    "print(\"Good to see you\",end=\" \")"
   ]
  },
  {
   "cell_type": "code",
   "execution_count": 18,
   "metadata": {},
   "outputs": [
    {
     "name": "stdout",
     "output_type": "stream",
     "text": [
      "Hi\n",
      "Hello\n",
      "Good to see you\n"
     ]
    }
   ],
   "source": [
    "print(\"Hi\")\n",
    "print(\"Hello\")\n",
    "print(\"Good to see you\")"
   ]
  },
  {
   "cell_type": "code",
   "execution_count": 19,
   "metadata": {},
   "outputs": [],
   "source": [
    "name=\"Hello\""
   ]
  },
  {
   "cell_type": "code",
   "execution_count": 20,
   "metadata": {},
   "outputs": [
    {
     "data": {
      "text/plain": [
       "'e'"
      ]
     },
     "execution_count": 20,
     "metadata": {},
     "output_type": "execute_result"
    }
   ],
   "source": [
    "name[1]"
   ]
  },
  {
   "cell_type": "code",
   "execution_count": 21,
   "metadata": {},
   "outputs": [
    {
     "ename": "NameError",
     "evalue": "name 'l' is not defined",
     "output_type": "error",
     "traceback": [
      "\u001b[1;31m---------------------------------------------------------------------------\u001b[0m",
      "\u001b[1;31mNameError\u001b[0m                                 Traceback (most recent call last)",
      "\u001b[1;32m<ipython-input-21-dbfee6d46e06>\u001b[0m in \u001b[0;36m<module>\u001b[1;34m\u001b[0m\n\u001b[1;32m----> 1\u001b[1;33m \u001b[0mname\u001b[0m\u001b[1;33m[\u001b[0m\u001b[0ml\u001b[0m\u001b[1;33m]\u001b[0m\u001b[1;33m\u001b[0m\u001b[1;33m\u001b[0m\u001b[0m\n\u001b[0m",
      "\u001b[1;31mNameError\u001b[0m: name 'l' is not defined"
     ]
    }
   ],
   "source": [
    "name[l]"
   ]
  },
  {
   "cell_type": "code",
   "execution_count": 22,
   "metadata": {},
   "outputs": [
    {
     "data": {
      "text/plain": [
       "'e'"
      ]
     },
     "execution_count": 22,
     "metadata": {},
     "output_type": "execute_result"
    }
   ],
   "source": [
    "name[1]"
   ]
  },
  {
   "cell_type": "code",
   "execution_count": 23,
   "metadata": {},
   "outputs": [
    {
     "data": {
      "text/plain": [
       "'l'"
      ]
     },
     "execution_count": 23,
     "metadata": {},
     "output_type": "execute_result"
    }
   ],
   "source": [
    "name[3]"
   ]
  },
  {
   "cell_type": "code",
   "execution_count": 24,
   "metadata": {},
   "outputs": [
    {
     "data": {
      "text/plain": [
       "'o'"
      ]
     },
     "execution_count": 24,
     "metadata": {},
     "output_type": "execute_result"
    }
   ],
   "source": [
    "name[-1]"
   ]
  },
  {
   "cell_type": "code",
   "execution_count": 25,
   "metadata": {},
   "outputs": [],
   "source": [
    "#slicing\n",
    "#str[start:stop:step]"
   ]
  },
  {
   "cell_type": "code",
   "execution_count": 26,
   "metadata": {},
   "outputs": [],
   "source": [
    "email=\"upasana.aggarwal.vit@gmail.com\""
   ]
  },
  {
   "cell_type": "code",
   "execution_count": 33,
   "metadata": {},
   "outputs": [
    {
     "data": {
      "text/plain": [
       "'gmail.co'"
      ]
     },
     "execution_count": 33,
     "metadata": {},
     "output_type": "execute_result"
    }
   ],
   "source": [
    "domain1=email.index(\"@\")\n",
    "domain=email[domain1+1:-1]\n",
    "domain"
   ]
  },
  {
   "cell_type": "code",
   "execution_count": 34,
   "metadata": {},
   "outputs": [
    {
     "data": {
      "text/plain": [
       "'gmail'"
      ]
     },
     "execution_count": 34,
     "metadata": {},
     "output_type": "execute_result"
    }
   ],
   "source": [
    "split_domain=domain.split(\".\")\n",
    "split_domain[0]"
   ]
  },
  {
   "cell_type": "code",
   "execution_count": 38,
   "metadata": {},
   "outputs": [
    {
     "data": {
      "text/plain": [
       "'o'"
      ]
     },
     "execution_count": 38,
     "metadata": {},
     "output_type": "execute_result"
    }
   ],
   "source": [
    "name[-1:len(name)]"
   ]
  },
  {
   "cell_type": "code",
   "execution_count": 39,
   "metadata": {},
   "outputs": [
    {
     "data": {
      "text/plain": [
       "5"
      ]
     },
     "execution_count": 39,
     "metadata": {},
     "output_type": "execute_result"
    }
   ],
   "source": [
    "len(name)"
   ]
  },
  {
   "cell_type": "code",
   "execution_count": 40,
   "metadata": {},
   "outputs": [
    {
     "data": {
      "text/plain": [
       "''"
      ]
     },
     "execution_count": 40,
     "metadata": {},
     "output_type": "execute_result"
    }
   ],
   "source": [
    "name[-1:-(len(name))]"
   ]
  },
  {
   "cell_type": "code",
   "execution_count": 44,
   "metadata": {},
   "outputs": [
    {
     "data": {
      "text/plain": [
       "-5"
      ]
     },
     "execution_count": 44,
     "metadata": {},
     "output_type": "execute_result"
    }
   ],
   "source": [
    "-(len(name))"
   ]
  },
  {
   "cell_type": "code",
   "execution_count": 47,
   "metadata": {},
   "outputs": [
    {
     "data": {
      "text/plain": [
       "'olleH'"
      ]
     },
     "execution_count": 47,
     "metadata": {},
     "output_type": "execute_result"
    }
   ],
   "source": [
    "name[-1:-(len(name))-1:-1]"
   ]
  },
  {
   "cell_type": "code",
   "execution_count": 48,
   "metadata": {},
   "outputs": [],
   "source": [
    "name=\"this world is beautiful\""
   ]
  },
  {
   "cell_type": "code",
   "execution_count": 49,
   "metadata": {},
   "outputs": [
    {
     "data": {
      "text/plain": [
       "'lufituaeb si dlrow siht'"
      ]
     },
     "execution_count": 49,
     "metadata": {},
     "output_type": "execute_result"
    }
   ],
   "source": [
    "name[-1:-(len(name))-1:-1]"
   ]
  },
  {
   "cell_type": "code",
   "execution_count": 50,
   "metadata": {},
   "outputs": [
    {
     "data": {
      "text/plain": [
       "'gmail'"
      ]
     },
     "execution_count": 50,
     "metadata": {},
     "output_type": "execute_result"
    }
   ],
   "source": [
    "email.split(\"@\")[1].split(\".\")[0]"
   ]
  },
  {
   "cell_type": "code",
   "execution_count": 52,
   "metadata": {},
   "outputs": [],
   "source": [
    "var=\"Virat\"\n",
    "score =95"
   ]
  },
  {
   "cell_type": "code",
   "execution_count": 53,
   "metadata": {},
   "outputs": [
    {
     "name": "stdout",
     "output_type": "stream",
     "text": [
      "Virat scored 95 runs in the last match\n"
     ]
    }
   ],
   "source": [
    "print(\"{} scored {} runs in the last match\".format(var,score))"
   ]
  },
  {
   "cell_type": "code",
   "execution_count": 54,
   "metadata": {},
   "outputs": [
    {
     "data": {
      "text/plain": [
       "range(0, 5)"
      ]
     },
     "execution_count": 54,
     "metadata": {},
     "output_type": "execute_result"
    }
   ],
   "source": [
    "range(5)"
   ]
  },
  {
   "cell_type": "code",
   "execution_count": 55,
   "metadata": {},
   "outputs": [
    {
     "name": "stdout",
     "output_type": "stream",
     "text": [
      "0\n",
      "1\n",
      "2\n"
     ]
    }
   ],
   "source": [
    "for i in range(3):\n",
    "    print(i)"
   ]
  },
  {
   "cell_type": "code",
   "execution_count": 56,
   "metadata": {},
   "outputs": [
    {
     "name": "stdout",
     "output_type": "stream",
     "text": [
      "Set 1\n",
      "Set 2\n",
      "Set 3\n"
     ]
    }
   ],
   "source": [
    "for i in range(3):\n",
    "    print(\"Set {}\".format(i+1))"
   ]
  },
  {
   "cell_type": "code",
   "execution_count": 62,
   "metadata": {},
   "outputs": [
    {
     "name": "stdout",
     "output_type": "stream",
     "text": [
      "1275\n"
     ]
    }
   ],
   "source": [
    "s=0\n",
    "for i in range(1,51,1):\n",
    "    s=s+i\n",
    "print(s)"
   ]
  },
  {
   "cell_type": "code",
   "execution_count": 60,
   "metadata": {},
   "outputs": [
    {
     "name": "stdout",
     "output_type": "stream",
     "text": [
      "1 is an odd number\n",
      "2 is an even number\n",
      "3 is an odd number\n",
      "4 is an even number\n",
      "5 is an odd number\n",
      "6 is an even number\n",
      "7 is an odd number\n",
      "8 is an even number\n",
      "9 is an odd number\n",
      "10 is an even number\n",
      "11 is an odd number\n",
      "12 is an even number\n",
      "13 is an odd number\n",
      "14 is an even number\n",
      "15 is an odd number\n",
      "16 is an even number\n",
      "17 is an odd number\n",
      "18 is an even number\n",
      "19 is an odd number\n",
      "20 is an even number\n",
      "21 is an odd number\n",
      "22 is an even number\n",
      "23 is an odd number\n",
      "24 is an even number\n",
      "25 is an odd number\n",
      "26 is an even number\n",
      "27 is an odd number\n",
      "28 is an even number\n",
      "29 is an odd number\n",
      "30 is an even number\n",
      "31 is an odd number\n",
      "32 is an even number\n",
      "33 is an odd number\n",
      "34 is an even number\n",
      "35 is an odd number\n",
      "36 is an even number\n",
      "37 is an odd number\n",
      "38 is an even number\n",
      "39 is an odd number\n",
      "40 is an even number\n",
      "41 is an odd number\n",
      "42 is an even number\n",
      "43 is an odd number\n",
      "44 is an even number\n",
      "45 is an odd number\n",
      "46 is an even number\n",
      "47 is an odd number\n",
      "48 is an even number\n",
      "49 is an odd number\n",
      "50 is an even number\n"
     ]
    }
   ],
   "source": [
    "for i in range(1,51,1):\n",
    "    if i % 2 == 0:\n",
    "        print(\"{} is an even number\".format(i))\n",
    "    else:\n",
    "        print(\"{} is an odd number\".format(i))"
   ]
  },
  {
   "cell_type": "code",
   "execution_count": 64,
   "metadata": {},
   "outputs": [
    {
     "name": "stdout",
     "output_type": "stream",
     "text": [
      "120\n"
     ]
    }
   ],
   "source": [
    "num=5\n",
    "fact=1\n",
    "for i in range(num,1,-1):\n",
    "    fact=fact*i\n",
    "print(fact)    "
   ]
  },
  {
   "cell_type": "code",
   "execution_count": null,
   "metadata": {},
   "outputs": [],
   "source": []
  },
  {
   "cell_type": "code",
   "execution_count": 68,
   "metadata": {},
   "outputs": [
    {
     "name": "stdout",
     "output_type": "stream",
     "text": [
      "* * * * * \n",
      "* * * * * \n",
      "* * * * * \n",
      "* * * * * \n",
      "* * * * * \n"
     ]
    }
   ],
   "source": [
    "side=5\n",
    "for i in range(side):\n",
    "    for j in range(side):\n",
    "        print(\"*\",end=\" \")\n",
    "    print()\n"
   ]
  },
  {
   "cell_type": "code",
   "execution_count": 72,
   "metadata": {},
   "outputs": [
    {
     "name": "stdout",
     "output_type": "stream",
     "text": [
      " *   *   *   *   *   *  \n",
      " *   *   *   *   *   *  \n",
      " *   *   *   *   *   *  \n",
      " *   *   *   *   *   *  \n"
     ]
    }
   ],
   "source": [
    "length=6\n",
    "breadth=4\n",
    "for i in range(breadth):\n",
    "    for j in range(length):\n",
    "        print(\" * \",end=\" \")\n",
    "    print()"
   ]
  },
  {
   "cell_type": "code",
   "execution_count": 74,
   "metadata": {},
   "outputs": [
    {
     "name": "stdout",
     "output_type": "stream",
     "text": [
      " *  \n",
      " *   *  \n",
      " *   *   *  \n",
      " *   *   *   *  \n",
      " *   *   *   *   *  \n"
     ]
    }
   ],
   "source": [
    "base=5\n",
    "height=5\n",
    "for i in range(0,height,1):\n",
    "    for j in range(0,i+1,1):\n",
    "        print(\" * \",end=\" \")\n",
    "        \n",
    "    print()"
   ]
  },
  {
   "cell_type": "code",
   "execution_count": 78,
   "metadata": {},
   "outputs": [
    {
     "name": "stdout",
     "output_type": "stream",
     "text": [
      " *  \n",
      " *   *   *  \n",
      " *   *   *   *   *  \n",
      " *   *   *   *   *   *   *  \n",
      " *   *   *   *   *   *   *   *   *  \n"
     ]
    }
   ],
   "source": [
    "counter=0\n",
    "height=5\n",
    "for i in range(0,height,1):\n",
    "    for j in range(0,i+counter+1,1):\n",
    "        print(\" * \",end=\" \")\n",
    "    counter=counter+1\n",
    "        \n",
    "    print()"
   ]
  },
  {
   "cell_type": "code",
   "execution_count": 84,
   "metadata": {},
   "outputs": [
    {
     "name": "stdout",
     "output_type": "stream",
     "text": [
      " *  \n",
      " *   *  \n",
      " *   *   *  \n",
      " *   *   *   *  \n",
      " *   *   *   *   *  \n"
     ]
    }
   ],
   "source": [
    "space=0\n",
    "height=5\n",
    "\n",
    "for i in range(0,height,1):\n",
    "    for j in range(1,(height//2 )+space,1):\n",
    "        print\n",
    "        print(\" * \",end=\" \")\n",
    "    space=space+1\n",
    "        \n",
    "    print()"
   ]
  },
  {
   "cell_type": "code",
   "execution_count": 86,
   "metadata": {},
   "outputs": [
    {
     "name": "stdout",
     "output_type": "stream",
     "text": [
      "    * \n",
      "   * * \n",
      "  * * * \n",
      " * * * * \n",
      "* * * * * \n"
     ]
    }
   ],
   "source": [
    "length=5\n",
    "for i in range(0,length):\n",
    "    for j in range(0,length-i-1):\n",
    "        print(end=\" \")\n",
    "    for l in range(i+1):\n",
    "        print(\"*\",end=\" \")\n",
    "    print()"
   ]
  },
  {
   "cell_type": "code",
   "execution_count": 99,
   "metadata": {},
   "outputs": [
    {
     "name": "stdout",
     "output_type": "stream",
     "text": [
      "* * * * * \n",
      "*       * \n",
      "*       * \n",
      "* * * * * \n",
      "*       * \n",
      "*       * \n",
      "*       * \n"
     ]
    }
   ],
   "source": [
    "for row in range(7):\n",
    "    for col in range(5):\n",
    "        if ((col == 0 or col ==4) and row != 0) or ((row ==0 or row==3) and(col>=0 and col<=4)):\n",
    "            print(\"*\",end=\" \")\n",
    "        else:\n",
    "            print(\" \",end=\" \")\n",
    "    print()"
   ]
  },
  {
   "cell_type": "code",
   "execution_count": 120,
   "metadata": {},
   "outputs": [
    {
     "name": "stdout",
     "output_type": "stream",
     "text": [
      "* * * * * \n",
      "*       * \n",
      "*       * \n",
      "* * * * * \n",
      "*       * \n",
      "*       * \n",
      "* * * * * \n"
     ]
    }
   ],
   "source": [
    "for row in range(7):\n",
    "    for col in range(5):\n",
    "        if ((col == 0 or col ==4) and (row!=0)) or ((row ==0 or row==3 or row==6) and (col>0 or col<4)):\n",
    "            print(\"*\",end=\" \")\n",
    "        else:\n",
    "            print(\" \",end=\" \")\n",
    "    print()"
   ]
  },
  {
   "cell_type": "code",
   "execution_count": null,
   "metadata": {},
   "outputs": [],
   "source": []
  },
  {
   "cell_type": "code",
   "execution_count": null,
   "metadata": {},
   "outputs": [],
   "source": []
  },
  {
   "cell_type": "code",
   "execution_count": null,
   "metadata": {},
   "outputs": [],
   "source": []
  },
  {
   "cell_type": "code",
   "execution_count": null,
   "metadata": {},
   "outputs": [],
   "source": []
  },
  {
   "cell_type": "code",
   "execution_count": null,
   "metadata": {},
   "outputs": [],
   "source": []
  },
  {
   "cell_type": "code",
   "execution_count": null,
   "metadata": {},
   "outputs": [],
   "source": []
  },
  {
   "cell_type": "markdown",
   "metadata": {},
   "source": []
  },
  {
   "cell_type": "code",
   "execution_count": 121,
   "metadata": {},
   "outputs": [],
   "source": [
    "num=[1,50.62,'Hi']"
   ]
  },
  {
   "cell_type": "code",
   "execution_count": 122,
   "metadata": {},
   "outputs": [
    {
     "data": {
      "text/plain": [
       "list"
      ]
     },
     "execution_count": 122,
     "metadata": {},
     "output_type": "execute_result"
    }
   ],
   "source": [
    "type(num)"
   ]
  },
  {
   "cell_type": "code",
   "execution_count": 123,
   "metadata": {},
   "outputs": [
    {
     "data": {
      "text/plain": [
       "['Hi', 50.62, 1]"
      ]
     },
     "execution_count": 123,
     "metadata": {},
     "output_type": "execute_result"
    }
   ],
   "source": [
    "num[::-1]"
   ]
  },
  {
   "cell_type": "code",
   "execution_count": 124,
   "metadata": {},
   "outputs": [],
   "source": [
    "n1=\"Hello\""
   ]
  },
  {
   "cell_type": "code",
   "execution_count": 125,
   "metadata": {},
   "outputs": [],
   "source": [
    "n2=[\"Hello\"]"
   ]
  },
  {
   "cell_type": "code",
   "execution_count": 126,
   "metadata": {},
   "outputs": [
    {
     "data": {
      "text/plain": [
       "str"
      ]
     },
     "execution_count": 126,
     "metadata": {},
     "output_type": "execute_result"
    }
   ],
   "source": [
    "type(n1)"
   ]
  },
  {
   "cell_type": "code",
   "execution_count": 127,
   "metadata": {},
   "outputs": [
    {
     "data": {
      "text/plain": [
       "list"
      ]
     },
     "execution_count": 127,
     "metadata": {},
     "output_type": "execute_result"
    }
   ],
   "source": [
    "type(n2)"
   ]
  },
  {
   "cell_type": "code",
   "execution_count": 128,
   "metadata": {},
   "outputs": [
    {
     "ename": "TypeError",
     "evalue": "'str' object does not support item assignment",
     "output_type": "error",
     "traceback": [
      "\u001b[1;31m---------------------------------------------------------------------------\u001b[0m",
      "\u001b[1;31mTypeError\u001b[0m                                 Traceback (most recent call last)",
      "\u001b[1;32m<ipython-input-128-13857a91d58e>\u001b[0m in \u001b[0;36m<module>\u001b[1;34m\u001b[0m\n\u001b[1;32m----> 1\u001b[1;33m \u001b[0mn1\u001b[0m\u001b[1;33m[\u001b[0m\u001b[1;36m1\u001b[0m\u001b[1;33m]\u001b[0m\u001b[1;33m=\u001b[0m\u001b[1;34m\"i\"\u001b[0m\u001b[1;33m\u001b[0m\u001b[1;33m\u001b[0m\u001b[0m\n\u001b[0m",
      "\u001b[1;31mTypeError\u001b[0m: 'str' object does not support item assignment"
     ]
    }
   ],
   "source": [
    "n1[1]=\"i\""
   ]
  },
  {
   "cell_type": "code",
   "execution_count": 129,
   "metadata": {},
   "outputs": [
    {
     "ename": "TypeError",
     "evalue": "'str' object does not support item assignment",
     "output_type": "error",
     "traceback": [
      "\u001b[1;31m---------------------------------------------------------------------------\u001b[0m",
      "\u001b[1;31mTypeError\u001b[0m                                 Traceback (most recent call last)",
      "\u001b[1;32m<ipython-input-129-af3bde56a204>\u001b[0m in \u001b[0;36m<module>\u001b[1;34m\u001b[0m\n\u001b[1;32m----> 1\u001b[1;33m \u001b[0mn2\u001b[0m\u001b[1;33m[\u001b[0m\u001b[1;36m0\u001b[0m\u001b[1;33m]\u001b[0m\u001b[1;33m[\u001b[0m\u001b[1;36m1\u001b[0m\u001b[1;33m]\u001b[0m\u001b[1;33m=\u001b[0m\u001b[1;34m\"i\"\u001b[0m\u001b[1;33m\u001b[0m\u001b[1;33m\u001b[0m\u001b[0m\n\u001b[0m",
      "\u001b[1;31mTypeError\u001b[0m: 'str' object does not support item assignment"
     ]
    }
   ],
   "source": [
    "n2[0][1]=\"i\""
   ]
  },
  {
   "cell_type": "code",
   "execution_count": 130,
   "metadata": {},
   "outputs": [],
   "source": [
    " num=[1,2,3,\"Hi\",\"How\", \"are\", \"you\",45.65,85.96,25.45]"
   ]
  },
  {
   "cell_type": "code",
   "execution_count": 131,
   "metadata": {},
   "outputs": [],
   "source": [
    "num.append('Python')"
   ]
  },
  {
   "cell_type": "code",
   "execution_count": 132,
   "metadata": {},
   "outputs": [
    {
     "data": {
      "text/plain": [
       "[1, 2, 3, 'Hi', 'How', 'are', 'you', 45.65, 85.96, 25.45, 'Python']"
      ]
     },
     "execution_count": 132,
     "metadata": {},
     "output_type": "execute_result"
    }
   ],
   "source": [
    "num"
   ]
  },
  {
   "cell_type": "code",
   "execution_count": 133,
   "metadata": {},
   "outputs": [],
   "source": [
    "num.extend([\"Hi\",\"Hello\"])"
   ]
  },
  {
   "cell_type": "code",
   "execution_count": 134,
   "metadata": {},
   "outputs": [
    {
     "data": {
      "text/plain": [
       "[1,\n",
       " 2,\n",
       " 3,\n",
       " 'Hi',\n",
       " 'How',\n",
       " 'are',\n",
       " 'you',\n",
       " 45.65,\n",
       " 85.96,\n",
       " 25.45,\n",
       " 'Python',\n",
       " 'Hi',\n",
       " 'Hello']"
      ]
     },
     "execution_count": 134,
     "metadata": {},
     "output_type": "execute_result"
    }
   ],
   "source": [
    "num"
   ]
  },
  {
   "cell_type": "code",
   "execution_count": 135,
   "metadata": {},
   "outputs": [],
   "source": [
    "num[3]='Robert'"
   ]
  },
  {
   "cell_type": "code",
   "execution_count": 136,
   "metadata": {},
   "outputs": [],
   "source": [
    "num[3]=num[3].upper()"
   ]
  },
  {
   "cell_type": "code",
   "execution_count": 137,
   "metadata": {},
   "outputs": [
    {
     "data": {
      "text/plain": [
       "[1,\n",
       " 2,\n",
       " 3,\n",
       " 'ROBERT',\n",
       " 'How',\n",
       " 'are',\n",
       " 'you',\n",
       " 45.65,\n",
       " 85.96,\n",
       " 25.45,\n",
       " 'Python',\n",
       " 'Hi',\n",
       " 'Hello']"
      ]
     },
     "execution_count": 137,
     "metadata": {},
     "output_type": "execute_result"
    }
   ],
   "source": [
    "num"
   ]
  },
  {
   "cell_type": "code",
   "execution_count": 138,
   "metadata": {},
   "outputs": [],
   "source": [
    "marks=[[\"Ram\",\"Shivam\",\"Rajan\"],[45,55,65],[66,77,88],[56,89,99]]"
   ]
  },
  {
   "cell_type": "code",
   "execution_count": 147,
   "metadata": {},
   "outputs": [
    {
     "name": "stdout",
     "output_type": "stream",
     "text": [
      "Ram got 55 marks in English\n",
      "Shivam got 77 marks in English\n",
      "Rajan got 89 marks in English\n"
     ]
    }
   ],
   "source": [
    "names=marks[0];\n",
    "len_names=len(names)\n",
    "ctr=0\n",
    "#for i in range(len(names)):\n",
    "for j in range(1,(len(marks))):\n",
    "    print(\"{} got {} marks in English\".format(names[ctr],marks[j][1]))\n",
    "    ctr= ctr+1"
   ]
  },
  {
   "cell_type": "code",
   "execution_count": 22,
   "metadata": {},
   "outputs": [
    {
     "name": "stdout",
     "output_type": "stream",
     "text": [
      "[1, 3, 12, 15, 15]\n"
     ]
    }
   ],
   "source": [
    "num=[3,1,15,12,15]\n",
    "for i in range(len(num)-1):\n",
    "    if (num[i] > num[i+1]):\n",
    "        num[i],num[i+1]=num[i+1],num[i]\n",
    "    else:\n",
    "        next\n",
    "print(num)"
   ]
  },
  {
   "cell_type": "code",
   "execution_count": 25,
   "metadata": {},
   "outputs": [],
   "source": [
    "num2=[10,20,30,10,20,30,40,50]"
   ]
  },
  {
   "cell_type": "code",
   "execution_count": 32,
   "metadata": {},
   "outputs": [
    {
     "name": "stdout",
     "output_type": "stream",
     "text": [
      "Enter the number to be found44\n",
      "44\n",
      "The entered number is not present\n"
     ]
    }
   ],
   "source": [
    "num2=[10,20,30,10,20,30,40,50]\n",
    "ispresent=0\n",
    "temp=[]\n",
    "ctr=0\n",
    "num1=int(input(\"Enter the number to be found\"))\n",
    "print(num1)\n",
    "for i in range(len(num2)):\n",
    "    if(num2[i]==num1):\n",
    "        ispresent=1;\n",
    "        temp.append(i)\n",
    "        ctr=ctr+1\n",
    "    else:\n",
    "        next\n",
    "if(ispresent==1):\n",
    "    print(\"The entered number is present {} times at indices {} \".format(ctr,temp))\n",
    "else:\n",
    "    print(\"The entered number is not present\")\n",
    "#search for an element(found or not found),number of occurences,indices at which present"
   ]
  },
  {
   "cell_type": "code",
   "execution_count": 41,
   "metadata": {},
   "outputs": [
    {
     "name": "stdout",
     "output_type": "stream",
     "text": [
      "[10, 20, 20, 30, 30, 30, 40, 40, 40, 40, 50, 50, 50, 50, 50]\n"
     ]
    }
   ],
   "source": [
    "num=[10,20,30,40,50]\n",
    "rep=[1,2,3,4,5]\n",
    "#output=[10,20,20,30,30,30,40,40,40,40,50,50,50,50,50]\n",
    "result=[]\n",
    "for i in range(len(num)):\n",
    "    #temp=[]\n",
    "    #temp=[num[i]]*rep[i]\n",
    "    result += [num[i]]*rep[i]\n",
    "    #result.append([num[i]]*rep[i])\n",
    "print(result)"
   ]
  },
  {
   "cell_type": "code",
   "execution_count": 56,
   "metadata": {},
   "outputs": [
    {
     "name": "stdout",
     "output_type": "stream",
     "text": [
      "[10, 20, 30, 40, 50]\n"
     ]
    }
   ],
   "source": [
    "output=[10,20,20,30,30,30,40,40,40,40,50,50,50,50,50]\n",
    "new_output=[]\n",
    "for i in range(len(output)):\n",
    "    if output[i] not in new_output:\n",
    "        new_output.append(output[i])\n",
    "print(new_output)"
   ]
  },
  {
   "cell_type": "code",
   "execution_count": 57,
   "metadata": {},
   "outputs": [
    {
     "name": "stdout",
     "output_type": "stream",
     "text": [
      "    * \n",
      "   * * \n",
      "  * * * \n",
      " * * * * \n",
      "* * * * * \n"
     ]
    }
   ],
   "source": [
    "length=5\n",
    "for i in range(0,length):\n",
    "    for j in range(0,length-i-1):\n",
    "        print(end=\" \")\n",
    "    for l in range(i+1):\n",
    "        print(\"*\",end=\" \")\n",
    "    print()"
   ]
  },
  {
   "cell_type": "code",
   "execution_count": 58,
   "metadata": {},
   "outputs": [
    {
     "name": "stdout",
     "output_type": "stream",
     "text": [
      "    * \n",
      "   * * \n",
      "  * * * \n",
      " * * * * \n",
      "* * * * * \n"
     ]
    }
   ],
   "source": [
    "n=5\n",
    "for i in range(0,n):\n",
    "    print(\" \"*(n-i-1) + \"* \"*(i+1))"
   ]
  },
  {
   "cell_type": "code",
   "execution_count": 59,
   "metadata": {},
   "outputs": [
    {
     "name": "stdout",
     "output_type": "stream",
     "text": [
      " * * * * *\n",
      "  * * * *\n",
      "   * * *\n",
      "    * *\n",
      "     *\n"
     ]
    }
   ],
   "source": [
    "n=5\n",
    "for i in range(n,0,-1):\n",
    "    print(\" \"*(n-i) + \" *\" * i)"
   ]
  },
  {
   "cell_type": "code",
   "execution_count": 67,
   "metadata": {},
   "outputs": [
    {
     "name": "stdout",
     "output_type": "stream",
     "text": [
      "    * \n",
      "   * * \n",
      "  * * * \n",
      " * * * * \n",
      "* * * * * \n",
      " * * * * \n",
      "  * * * \n",
      "   * * \n",
      "    * \n"
     ]
    }
   ],
   "source": [
    "n=5\n",
    "\n",
    "for i in range(0,n):\n",
    "    print(\" \"*(n-i-1) + \"* \"*(i+1))\n",
    "for j in range(n-1,0,-1):\n",
    "    print(\" \"*(n-j) + \"* \" * j)"
   ]
  },
  {
   "cell_type": "code",
   "execution_count": 72,
   "metadata": {},
   "outputs": [
    {
     "name": "stdout",
     "output_type": "stream",
     "text": [
      "p \n",
      "p y \n",
      "p y t \n",
      "p y t h \n",
      "p y t h o \n",
      "p y t h o n \n"
     ]
    }
   ],
   "source": [
    "str=\"python\"\n",
    "\n",
    "for i in range(0,len(str)):\n",
    "    for j in range(0,i+1):\n",
    "        print(str[j],end=\" \")\n",
    "    print()"
   ]
  },
  {
   "cell_type": "code",
   "execution_count": 78,
   "metadata": {},
   "outputs": [
    {
     "name": "stdout",
     "output_type": "stream",
     "text": [
      "1 \n",
      "2 3 \n",
      "4 5 6 \n",
      "7 8 9 10 \n"
     ]
    }
   ],
   "source": [
    "row=4\n",
    "p=1\n",
    "for i in range(row):\n",
    "    for j in range(i+1):\n",
    "        print(p,end=\" \")\n",
    "        p=p+1\n",
    "    print()"
   ]
  },
  {
   "cell_type": "code",
   "execution_count": 4,
   "metadata": {},
   "outputs": [
    {
     "name": "stdout",
     "output_type": "stream",
     "text": [
      "5 4 3 2 1 \n",
      "4 3 2 1 \n",
      "3 2 1 \n",
      "2 1 \n",
      "1 \n"
     ]
    }
   ],
   "source": [
    "n=5\n",
    "row=5\n",
    "for i in range(n,0,-1):\n",
    "    for j in range(i,0,-1):\n",
    "        print(j,end=\" \")\n",
    "    print()"
   ]
  },
  {
   "cell_type": "code",
   "execution_count": 6,
   "metadata": {},
   "outputs": [
    {
     "name": "stdout",
     "output_type": "stream",
     "text": [
      "1 2 3 4 5 \n",
      "1 2 3 4 \n",
      "1 2 3 \n",
      "1 2 \n",
      "1 \n"
     ]
    }
   ],
   "source": [
    "n=5\n",
    "row=5\n",
    "for i in range(n,0,-1):\n",
    "    for j in range(1,i+1):\n",
    "        print(j,end=\" \")\n",
    "    print()"
   ]
  },
  {
   "cell_type": "code",
   "execution_count": 7,
   "metadata": {},
   "outputs": [
    {
     "name": "stdout",
     "output_type": "stream",
     "text": [
      "5 5 5 5 5 \n",
      "4 4 4 4 \n",
      "3 3 3 \n",
      "2 2 \n",
      "1 \n"
     ]
    }
   ],
   "source": [
    "n=5\n",
    "for i in range(n,0,-1):\n",
    "    for j in range(1,i+1):\n",
    "        print(i,end=\" \")\n",
    "    print()"
   ]
  },
  {
   "cell_type": "code",
   "execution_count": 23,
   "metadata": {},
   "outputs": [
    {
     "name": "stdout",
     "output_type": "stream",
     "text": [
      "Enter the number of rows :9\n",
      "                *                 \n",
      "              *   *               \n",
      "            *       *             \n",
      "          *           *           \n",
      "        *               *         \n",
      "      *                   *       \n",
      "    *                       *     \n",
      "  *                           *   \n",
      "* * * * * * * * * * * * * * * * * \n"
     ]
    }
   ],
   "source": [
    "n=int(input(\"Enter the number of rows :\"))\n",
    "\n",
    "for row in range(1,n+1):\n",
    "    for col in range(1,n*2):\n",
    "        if(row==n or (row+col==n+1) or (col-row==(n-1))):\n",
    "            print(\"*\",end=\" \")\n",
    "        else:\n",
    "            print(\" \",end=\" \")\n",
    "    print()\n",
    "            "
   ]
  },
  {
   "cell_type": "code",
   "execution_count": 26,
   "metadata": {},
   "outputs": [
    {
     "name": "stdout",
     "output_type": "stream",
     "text": [
      "55\n"
     ]
    }
   ],
   "source": [
    "i=1\n",
    "s=0\n",
    "while(i<11):\n",
    "    s+=i\n",
    "    i+=1\n",
    "print(s)"
   ]
  },
  {
   "cell_type": "code",
   "execution_count": 28,
   "metadata": {},
   "outputs": [
    {
     "name": "stdout",
     "output_type": "stream",
     "text": [
      "1 is odd\n",
      "2 is even\n",
      "3 is odd\n",
      "4 is even\n",
      "5 is odd\n",
      "6 is even\n",
      "7 is odd\n",
      "8 is even\n",
      "9 is odd\n",
      "10 is even\n",
      "11 is odd\n"
     ]
    }
   ],
   "source": [
    "i=0\n",
    "while i<11:\n",
    "    i+=1\n",
    "    if i%2 == 0:\n",
    "        print(\"{} is even\".format(i))\n",
    "    else:\n",
    "        print(\"{} is odd\".format(i))"
   ]
  },
  {
   "cell_type": "code",
   "execution_count": 32,
   "metadata": {},
   "outputs": [
    {
     "name": "stdout",
     "output_type": "stream",
     "text": [
      "120\n"
     ]
    }
   ],
   "source": [
    "n=5\n",
    "f=1\n",
    "while(n>=1):\n",
    "    f= n*f\n",
    "    n-=1\n",
    "print(f)"
   ]
  },
  {
   "cell_type": "code",
   "execution_count": 7,
   "metadata": {},
   "outputs": [
    {
     "ename": "SyntaxError",
     "evalue": "invalid syntax (<ipython-input-7-5da7bac061f4>, line 1)",
     "output_type": "error",
     "traceback": [
      "\u001b[1;36m  File \u001b[1;32m\"<ipython-input-7-5da7bac061f4>\"\u001b[1;36m, line \u001b[1;32m1\u001b[0m\n\u001b[1;33m    while((k=input(\"Enter a letter\")) !='q'):\u001b[0m\n\u001b[1;37m            ^\u001b[0m\n\u001b[1;31mSyntaxError\u001b[0m\u001b[1;31m:\u001b[0m invalid syntax\n"
     ]
    }
   ],
   "source": [
    "\n",
    "while((input(\"Enter a letter\")) !='q'):\n",
    "    #print(\"you entered the letter {}\".format(x))\n",
    "    print(k)\n",
    "    next"
   ]
  },
  {
   "cell_type": "code",
   "execution_count": 6,
   "metadata": {},
   "outputs": [
    {
     "name": "stdout",
     "output_type": "stream",
     "text": [
      "enter any character between a-z : Q\n",
      "Q\n",
      "Thank you for playing\n"
     ]
    }
   ],
   "source": [
    "n=\" \"\n",
    "while n.lower() != 'q':\n",
    "    n= input(\"enter any character between a-z : \")\n",
    "    print(n)\n",
    "print(\"Thank you for playing\")"
   ]
  },
  {
   "cell_type": "code",
   "execution_count": 8,
   "metadata": {},
   "outputs": [],
   "source": [
    "num=list(range(1,11))"
   ]
  },
  {
   "cell_type": "code",
   "execution_count": 9,
   "metadata": {},
   "outputs": [
    {
     "data": {
      "text/plain": [
       "[1, 2, 3, 4, 5, 6, 7, 8, 9, 10]"
      ]
     },
     "execution_count": 9,
     "metadata": {},
     "output_type": "execute_result"
    }
   ],
   "source": [
    "num"
   ]
  },
  {
   "cell_type": "code",
   "execution_count": 10,
   "metadata": {},
   "outputs": [
    {
     "name": "stdout",
     "output_type": "stream",
     "text": [
      "1\n",
      "2\n",
      "4\n",
      "5\n",
      "6\n",
      "7\n",
      "8\n",
      "9\n",
      "10\n"
     ]
    }
   ],
   "source": [
    "for i in num:\n",
    "    if i==3:\n",
    "        continue\n",
    "    else:\n",
    "        print(i)"
   ]
  },
  {
   "cell_type": "code",
   "execution_count": 11,
   "metadata": {},
   "outputs": [
    {
     "name": "stdout",
     "output_type": "stream",
     "text": [
      "1\n",
      "2\n",
      "3\n",
      "4\n"
     ]
    }
   ],
   "source": [
    "for i in num:\n",
    "    if i==5:\n",
    "        break\n",
    "    else:\n",
    "        print(i)"
   ]
  },
  {
   "cell_type": "code",
   "execution_count": 12,
   "metadata": {},
   "outputs": [],
   "source": [
    "for i in range(10):\n",
    "    pass"
   ]
  },
  {
   "cell_type": "code",
   "execution_count": 13,
   "metadata": {},
   "outputs": [
    {
     "name": "stdout",
     "output_type": "stream",
     "text": [
      "1\n",
      "2\n",
      "3\n",
      "4\n",
      "5\n",
      "6\n",
      "7\n",
      "8\n",
      "9\n",
      "10\n"
     ]
    }
   ],
   "source": [
    "i=1\n",
    "while i<=10:\n",
    "    print(i)\n",
    "    i+=1"
   ]
  },
  {
   "cell_type": "code",
   "execution_count": 14,
   "metadata": {},
   "outputs": [
    {
     "name": "stdout",
     "output_type": "stream",
     "text": [
      "Enter any character between a-zd\n",
      "d\n",
      "Enter any character between a-zh\n",
      "h\n",
      "Enter any character between a-zx\n",
      "x\n",
      "Enter any character between a-zq\n",
      "Thank you for playing\n"
     ]
    }
   ],
   "source": [
    "n=\" \"\n",
    "while True:\n",
    "    n=input(\"Enter any character between a-z\")\n",
    "    if n.lower() == 'q':\n",
    "        print(\"Thank you for playing\")\n",
    "        break\n",
    "    else:\n",
    "        print(n)"
   ]
  },
  {
   "cell_type": "code",
   "execution_count": 3,
   "metadata": {},
   "outputs": [
    {
     "name": "stdout",
     "output_type": "stream",
     "text": [
      "Enter first number:4\n",
      "Enter second number:5\n",
      "9\n",
      "Enter the sum of the two numbers:2\n",
      "Try again\n",
      "Enter the sum of the two numbers:0\n",
      "Try again\n",
      "Enter the sum of the two numbers:1\n",
      "Try again\n",
      "Enter the sum of the two numbers:6\n",
      "Try again\n",
      "Enter the sum of the two numbers:9\n",
      "You took 5 attempts to guess the right sum\n"
     ]
    }
   ],
   "source": [
    "ctr=1\n",
    "n1=int(input(\"Enter first number:\"))\n",
    "n2=int(input(\"Enter second number:\"))\n",
    "s=n1+n2\n",
    "while True:\n",
    "   \n",
    "    n3=int(input(\"Enter the sum of the two numbers:\"))\n",
    "    if(n3 == s):\n",
    "        print(\"You took {} attempts to guess the right sum\".format(ctr))\n",
    "        break\n",
    "    else:\n",
    "        print(\"Try again\")\n",
    "        ctr+=1"
   ]
  },
  {
   "cell_type": "code",
   "execution_count": 4,
   "metadata": {},
   "outputs": [],
   "source": [
    "marks={\"Ravi\":459,\"Kishan\":350,\"Rahul\":498}"
   ]
  },
  {
   "cell_type": "code",
   "execution_count": 5,
   "metadata": {},
   "outputs": [
    {
     "data": {
      "text/plain": [
       "dict"
      ]
     },
     "execution_count": 5,
     "metadata": {},
     "output_type": "execute_result"
    }
   ],
   "source": [
    "type(marks)"
   ]
  },
  {
   "cell_type": "code",
   "execution_count": 6,
   "metadata": {},
   "outputs": [
    {
     "data": {
      "text/plain": [
       "459"
      ]
     },
     "execution_count": 6,
     "metadata": {},
     "output_type": "execute_result"
    }
   ],
   "source": [
    "marks[\"Ravi\"]"
   ]
  },
  {
   "cell_type": "code",
   "execution_count": 7,
   "metadata": {},
   "outputs": [],
   "source": [
    "st=\"Hello\"\n",
    "a={}"
   ]
  },
  {
   "cell_type": "code",
   "execution_count": 8,
   "metadata": {},
   "outputs": [
    {
     "data": {
      "text/plain": [
       "{'H': 55, 'e': 55, 'l': 55, 'o': 55}"
      ]
     },
     "execution_count": 8,
     "metadata": {},
     "output_type": "execute_result"
    }
   ],
   "source": [
    "a.fromkeys(st,55)"
   ]
  },
  {
   "cell_type": "code",
   "execution_count": 45,
   "metadata": {},
   "outputs": [
    {
     "name": "stdout",
     "output_type": "stream",
     "text": [
      "a is present 1 time/s in the string\n",
      "e is present 2 time/s in the string\n",
      "i vowel is not present in this string\n",
      "o is present 2 time/s in the string\n",
      "u is present 1 time/s in the string\n"
     ]
    }
   ],
   "source": [
    "st=\"Hey how are you\"\n",
    "a={}\n",
    "vowels=['a','e','i','o','u']\n",
    "b=a.fromkeys(st,0)\n",
    "for s in st:\n",
    "    if(s in vowels):\n",
    "        b[s]=b[s] +1\n",
    "    else:\n",
    "        continue\n",
    "\n",
    "for d in vowels:\n",
    "    if(d in b.keys()):\n",
    "        print(\"{} is present {} time/s in the string\".format(d,b[d]))\n",
    "    else:\n",
    "        print(\"{} vowel is not present in this string\".format(d))\n",
    "        \n",
    "        "
   ]
  },
  {
   "cell_type": "code",
   "execution_count": 25,
   "metadata": {},
   "outputs": [
    {
     "name": "stdout",
     "output_type": "stream",
     "text": [
      "{'a': 3, 'e': 3, 'i': 2, 'o': 1, 'u': 2}\n"
     ]
    }
   ],
   "source": [
    "s=\"The world is a beautiful place\"\n",
    "vou=\"aeiou\"\n",
    "v={}\n",
    "v=v.fromkeys(vou,0)\n",
    "ctr=0\n",
    "for i in s.lower():\n",
    "    if i in v:\n",
    "        v[i]+=1\n",
    "    else:\n",
    "        ctr+=1\n",
    "print(v)"
   ]
  },
  {
   "cell_type": "code",
   "execution_count": 26,
   "metadata": {},
   "outputs": [],
   "source": [
    "#kind of a kbc game"
   ]
  },
  {
   "cell_type": "code",
   "execution_count": 27,
   "metadata": {},
   "outputs": [],
   "source": [
    "d={\"REL\":2200,\"INFY\":1200,\"APPO\":189,\"HUL\":2300,\"ITC\":215}\n",
    "#how many stocks he will buy and show bill\n",
    "#brokerage 2%\n",
    "#tax 0.16 on total bill"
   ]
  },
  {
   "cell_type": "code",
   "execution_count": 28,
   "metadata": {},
   "outputs": [],
   "source": [
    "menu={\"Burger\":55,\"Pizza\":100,\"Idli\":115,\"Sambhar\":45}"
   ]
  },
  {
   "cell_type": "code",
   "execution_count": 32,
   "metadata": {},
   "outputs": [],
   "source": [
    "new_menu={\"momos\":55,\"Pasta\":85,\"Spring Roll\":96,\"Burger\":65}"
   ]
  },
  {
   "cell_type": "code",
   "execution_count": 33,
   "metadata": {},
   "outputs": [],
   "source": [
    "menu.update(new_menu)"
   ]
  },
  {
   "cell_type": "code",
   "execution_count": 34,
   "metadata": {},
   "outputs": [
    {
     "data": {
      "text/plain": [
       "{'Burger': 65,\n",
       " 'Pizza': 100,\n",
       " 'Idli': 115,\n",
       " 'Sambhar': 45,\n",
       " 'momos': 55,\n",
       " 'Pasta': 85,\n",
       " 'Spring Roll': 96}"
      ]
     },
     "execution_count": 34,
     "metadata": {},
     "output_type": "execute_result"
    }
   ],
   "source": [
    "menu"
   ]
  },
  {
   "cell_type": "code",
   "execution_count": 38,
   "metadata": {},
   "outputs": [],
   "source": [
    "st = {\"Rel\":{\"Open\":2200,\"High\":2300,\"Close\":2100,\"Low\":2000},\n",
    "      \"ITC\":{\"Open\":220,\"High\":230,\"Close\":210,\"Low\":200},\n",
    "     \"HDFC\":{\"Open\":2300,\"High\":2700,\"Close\":2500,\"Low\":2100},\n",
    "      \"AP\":{\"Open\":188,\"High\":200,\"Close\":210,\"Low\":200}\n",
    "     }"
   ]
  },
  {
   "cell_type": "code",
   "execution_count": 37,
   "metadata": {},
   "outputs": [
    {
     "data": {
      "text/plain": [
       "dict_keys"
      ]
     },
     "execution_count": 37,
     "metadata": {},
     "output_type": "execute_result"
    }
   ],
   "source": [
    "type(st.keys())"
   ]
  },
  {
   "cell_type": "code",
   "execution_count": 39,
   "metadata": {},
   "outputs": [
    {
     "name": "stdout",
     "output_type": "stream",
     "text": [
      "The following are the available stocks:\n",
      "Rel\n",
      "ITC\n",
      "HDFC\n",
      "AP\n",
      "Enter the stock you want to buy: Rel\n",
      "Enter the number of shares you want to buy:8\n",
      "Stock cost is 16800\n",
      "Brokerage to be paid is 336.0\n",
      "Tax to be paid is 26.88\n",
      "Your total amount to be paid is 17162.88\n"
     ]
    }
   ],
   "source": [
    "print(\"The following are the available stocks:\")\n",
    "for s in st.keys():\n",
    "    print(s)\n",
    "\n",
    "i=input(\"Enter the stock you want to buy: \")\n",
    "if i in st.keys():\n",
    "    n=int(input(\"Enter the number of shares you want to buy:\"))\n",
    "    share_bill=n*st[i][\"Close\"] \n",
    "    brokerage= 0.02 * share_bill\n",
    "    tax= round((0.0016 *share_bill),2)\n",
    "    total=share_bill + brokerage + tax\n",
    "    print(\"Stock cost is {}\".format(share_bill))\n",
    "    print(\"Brokerage to be paid is {}\".format(brokerage))\n",
    "    print(\"Tax to be paid is {}\".format(tax))\n",
    "    print(\"Your total amount to be paid is {}\".format(total))\n",
    "else:\n",
    "    print(\"This stock is not for sale\")"
   ]
  },
  {
   "cell_type": "code",
   "execution_count": null,
   "metadata": {},
   "outputs": [],
   "source": []
  },
  {
   "cell_type": "code",
   "execution_count": 7,
   "metadata": {},
   "outputs": [
    {
     "name": "stdout",
     "output_type": "stream",
     "text": [
      "Let's play!!\n",
      "\n",
      "Who is the Father of our Nation?\n",
      "a.Mahatma Gandhi\n",
      "b.Jawaharlal Nehru\n",
      "c.Lal Bahadur Shastri\n",
      "d.Bhagat Singh\n",
      "a\n",
      "Your answer is correct. Your score is 1\n",
      "Do you wish to continue to play? y/n: y\n",
      "\n",
      "Giddha is the folk dance of which state?\n",
      "a.Gujarat\n",
      "b.Uttarakhand\n",
      "c.Punjab\n",
      "d.Kerela\n",
      "d\n",
      "Sorry! Wrong answer!! Your score is 1\n",
      "Do you wish to continue to play? y/n: y\n",
      "\n",
      "1024 Kilobytes is equal to?\n",
      "a.10.24gb\n",
      "b.1MB\n",
      "c.1kg\n",
      "d.None of the above\n",
      "b\n",
      "Your answer is correct. Your score is 2\n",
      "Do you wish to continue to play? y/n: y\n",
      "\n",
      "India lies in which continent?\n",
      "a.America\n",
      "b.Australia\n",
      "c.Africa\n",
      "d.Asia\n",
      "d\n",
      "Your answer is correct. Your score is 3\n",
      "Do you wish to continue to play? y/n: n\n",
      "Sorry to see you go. Your score is 3\n",
      "Game over!! Your score is 3\n"
     ]
    }
   ],
   "source": [
    "#kbc\n",
    "q1='''\n",
    "Who is the Father of our Nation?\n",
    "a.Mahatma Gandhi\n",
    "b.Jawaharlal Nehru\n",
    "c.Lal Bahadur Shastri\n",
    "d.Bhagat Singh\n",
    "'''\n",
    "q2='''\n",
    "Giddha is the folk dance of which state?\n",
    "a.Gujarat\n",
    "b.Uttarakhand\n",
    "c.Punjab\n",
    "d.Kerela\n",
    "'''\n",
    "\n",
    "q3='''\n",
    "1024 Kilobytes is equal to?\n",
    "a.10.24gb\n",
    "b.1MB\n",
    "c.1kg\n",
    "d.None of the above\n",
    "'''\n",
    "\n",
    "q4='''\n",
    "India lies in which continent?\n",
    "a.America\n",
    "b.Australia\n",
    "c.Africa\n",
    "d.Asia\n",
    "'''\n",
    "\n",
    "q5='''\n",
    "What city is the statue of liberty in?\n",
    "a.NYC\n",
    "b.Dehradun\n",
    "c.Mumbai\n",
    "d.Johanasberg\n",
    "'''\n",
    "q6='''\n",
    "A figure with 8 sides is called?\n",
    "a.Triangle\n",
    "b.Pentagon\n",
    "c.Hexagon\n",
    "d.Octagon\n",
    "'''\n",
    "\n",
    "q7='''\n",
    "Shape of Egg is?\n",
    "a.Triangle\n",
    "b.Circle\n",
    "c.Oval\n",
    "d.All of the above\n",
    "'''\n",
    "\n",
    "q8='''\n",
    "How many colours are there in India’s National Flag?\n",
    "a.3\n",
    "b.4\n",
    "c.1\n",
    "d.8\n",
    "'''\n",
    "\n",
    "q9='''\n",
    "Capital of Uttarakhand is?\n",
    "a.Almora\n",
    "b.Gandhinagar\n",
    "c.Patiala\n",
    "d.Dehradun\n",
    "'''\n",
    "\n",
    "q10='''\n",
    "Where does a dog live?\n",
    "a.Stable\n",
    "b.Kennel\n",
    "c.Street\n",
    "d.None of the above\n",
    "'''\n",
    "\n",
    "'''\n",
    "questions={\"Who is the Father of our Nation?\":\"Mahatma Gandhi\",\n",
    "           \"Giddha is the folk dance of which state?\":\"Punjab\",\n",
    "            \"1024 Kilobytes is equal to?\":\"1 MB\",\n",
    "           \"India lies in which continent?\":\"Asia\",\n",
    "           \"What city is the statue of liberty in?\":\"New York City\",\n",
    "           \"A figure with 8 sides is called?\":\"Octagon\",\n",
    "           \"Shape of Egg is?\":\"Oval\",\n",
    "           \"How many colours are there in India’s National Flag?\":\"Three\",\n",
    "           \"Capital of Uttarakhand is?\":\"Dehradun\",\n",
    "           \"Where does a dog live?\":\"Kennel\" }   \n",
    "           \n",
    "'''\n",
    "\n",
    "questions={q1:\"a\",q2:\"c\",q3:\"b\",q4:\"d\",q5:\"a\",q6:\"d\",q7:\"c\",q8:\"c\",q9:\"d\",q10:\"b\"}\n",
    "score=0\n",
    "print(\"Let's play!!\")\n",
    "for ques in questions.keys():\n",
    "    ans=input(\"{}\".format(ques))\n",
    "    if ans == questions[ques]:\n",
    "        score+=1\n",
    "        print(\"Your answer is correct. Your score is {}\".format(score))\n",
    "        res=input(\"Do you wish to continue to play? y/n: \")\n",
    "        if res == 'y':\n",
    "            continue\n",
    "        else:\n",
    "            print(\"Sorry to see you go. Your score is {}\".format(score))\n",
    "            break\n",
    "    else:\n",
    "        print(\"Sorry! Wrong answer!! Your score is {}\".format(score))\n",
    "        res=input(\"Do you wish to continue to play? y/n: \")\n",
    "        if res == 'y':\n",
    "            continue\n",
    "        else:\n",
    "            print(\"Sorry to see you go. Your score is {}\".format(score))\n",
    "            break\n",
    "print(\"Game over!! Your score is {}\".format(score))"
   ]
  },
  {
   "cell_type": "code",
   "execution_count": 9,
   "metadata": {},
   "outputs": [
    {
     "name": "stdout",
     "output_type": "stream",
     "text": [
      "150\n",
      "12000000\n"
     ]
    }
   ],
   "source": [
    "d1={\"n1\":10,\"n2\":20,\"n3\":30,\"n4\":40,\"n5\":50}\n",
    "s=0\n",
    "mul=1\n",
    "for n in d1:\n",
    "    s+=d1[n]\n",
    "    mul*=d1[n]\n",
    "print(s)\n",
    "print(mul)"
   ]
  },
  {
   "cell_type": "code",
   "execution_count": 4,
   "metadata": {},
   "outputs": [
    {
     "name": "stdout",
     "output_type": "stream",
     "text": [
      "Enter the marks:80\n",
      "Your status is Fail\n"
     ]
    }
   ],
   "source": [
    "#marks,pass/fail,\n",
    "status={0:\"Invalid\",40:\"Pass\",60:\"Distinction\",100:\"Invalid\",39:\"Fail\"}\n",
    "marks=int(input(\"Enter the marks:\"))\n",
    "\n",
    "for m in status:\n",
    "if(marks==m):\n",
    "    print(\"Your status is {}\".format(status[m]))\n",
    "        #continue\n",
    "elif(marks > m):\n",
    "    print(\"Your status is {}\".format(status[m]))\n",
    "        #continue\n",
    "else:\n",
    "    print(\"Your status is {}\".format(status[m]))\n",
    "        #continue"
   ]
  },
  {
   "cell_type": "code",
   "execution_count": 5,
   "metadata": {},
   "outputs": [],
   "source": [
    "status={\"c1\":\"Invalid\",40:\"Pass\",60:\"Distinction\",100:\"Invalid\",39:\"Fail\"}"
   ]
  },
  {
   "cell_type": "code",
   "execution_count": 6,
   "metadata": {},
   "outputs": [
    {
     "data": {
      "text/plain": [
       "'Invalid'"
      ]
     },
     "execution_count": 6,
     "metadata": {},
     "output_type": "execute_result"
    }
   ],
   "source": [
    "status[0]"
   ]
  },
  {
   "cell_type": "code",
   "execution_count": 9,
   "metadata": {},
   "outputs": [
    {
     "name": "stdout",
     "output_type": "stream",
     "text": [
      "Enter the statement:hey hello hello hey are you there\n",
      "{'hey': 2, 'hello': 2, 'are': 1, 'you': 1, 'there': 1}\n"
     ]
    }
   ],
   "source": [
    "st=input(\"Enter the statement:\")\n",
    "st_brk=st.split()\n",
    "occ={}\n",
    "for word in st_brk:\n",
    "    if word not in occ.keys():\n",
    "        occ[word]=1\n",
    "    else:\n",
    "        occ[word]+=1\n",
    "print(occ)"
   ]
  },
  {
   "cell_type": "code",
   "execution_count": 14,
   "metadata": {},
   "outputs": [
    {
     "name": "stdout",
     "output_type": "stream",
     "text": [
      "{'Upasana': 99, 'Arhana': 100, 'Rahul': 80, 'Arjun': 90}\n"
     ]
    }
   ],
   "source": [
    "l1=[\"Upasana\",\"Arhana\",\"Rahul\",\"Arjun\"]\n",
    "l2=[99,100,80,90]\n",
    "marks={}\n",
    "for i in range(len(l1)):\n",
    "    marks[l1[i]]=l2[i]\n",
    "print(marks)    "
   ]
  },
  {
   "cell_type": "code",
   "execution_count": 50,
   "metadata": {},
   "outputs": [],
   "source": [
    "cred={\"Upasana\":\"abc\",\"Rahul\":\"danger\",\"Arjun\":\"wonderful\"}"
   ]
  },
  {
   "cell_type": "code",
   "execution_count": 53,
   "metadata": {},
   "outputs": [
    {
     "ename": "NameError",
     "evalue": "name 'count' is not defined",
     "output_type": "error",
     "traceback": [
      "\u001b[1;31m---------------------------------------------------------------------------\u001b[0m",
      "\u001b[1;31mNameError\u001b[0m                                 Traceback (most recent call last)",
      "\u001b[1;32m<ipython-input-53-94c02c316f79>\u001b[0m in \u001b[0;36m<module>\u001b[1;34m\u001b[0m\n\u001b[1;32m----> 1\u001b[1;33m \u001b[0mcount\u001b[0m\u001b[1;33m(\u001b[0m\u001b[0mcred\u001b[0m\u001b[1;33m.\u001b[0m\u001b[0mkeys\u001b[0m\u001b[1;33m(\u001b[0m\u001b[1;33m)\u001b[0m\u001b[1;33m)\u001b[0m\u001b[1;33m\u001b[0m\u001b[1;33m\u001b[0m\u001b[0m\n\u001b[0m",
      "\u001b[1;31mNameError\u001b[0m: name 'count' is not defined"
     ]
    }
   ],
   "source": []
  },
  {
   "cell_type": "code",
   "execution_count": 28,
   "metadata": {},
   "outputs": [
    {
     "name": "stdout",
     "output_type": "stream",
     "text": [
      "Enter username:Upasana\n",
      "Enter password:jkkks\n",
      "Wrong Password!!\n",
      "Do you wish to update your password? y/ny\n",
      "Enter new password:msgh\n",
      "{'Upasana': 'msgh', 'Rahul': 'danger', 'Arjun': 'wonderful'}\n"
     ]
    }
   ],
   "source": [
    "\n",
    "uname=input(\"Enter username:\")\n",
    "if uname in cred.keys():\n",
    "    pwd=input(\"Enter password:\")\n",
    "    if pwd==cred[uname]:\n",
    "        print(\"Login done successfully!!\")\n",
    "    else:\n",
    "        print(\"Wrong Password!!\")\n",
    "        res=input(\"Do you wish to update your password? y/n\")\n",
    "        if res=='y':\n",
    "            new_pwd=input(\"Enter new password:\")\n",
    "            cred[uname]=new_pwd\n",
    "        else:\n",
    "            print(\"Login Unsuccessful!!\")\n",
    "else:\n",
    "    res=input(\"Invalid Username. Do you wish to signup? y/n\")\n",
    "    if res == 'y':\n",
    "        new_pwd=input(\"Enter password:\")\n",
    "        cred[uname]=new_pwd\n",
    "        print(\"Signup done successfully!!\")\n",
    "    else:\n",
    "        print(\"Login Unsuccessful!!\")\n",
    "print(cred)  "
   ]
  },
  {
   "cell_type": "code",
   "execution_count": 36,
   "metadata": {},
   "outputs": [
    {
     "name": "stdout",
     "output_type": "stream",
     "text": [
      "Enter number: 765\n",
      "5\n",
      "76\n",
      "6\n",
      "7\n",
      "7\n",
      "0\n",
      "The reverse of the number: 567\n"
     ]
    }
   ],
   "source": [
    "n=int(input(\"Enter number: \"))\n",
    "rev=0\n",
    "while(n>0):\n",
    "    dig=n%10\n",
    "\n",
    "    rev=rev*10+dig\n",
    "    n=n//10\n",
    "\n",
    "print(\"The reverse of the number:\",rev)"
   ]
  },
  {
   "cell_type": "code",
   "execution_count": 58,
   "metadata": {},
   "outputs": [
    {
     "name": "stdout",
     "output_type": "stream",
     "text": [
      "Enter the number of students2\n",
      "Enter the name of the student:Ravi\n",
      "Enter science marks for Ravi:89\n",
      "Ravi\n",
      "Enter Maths marks for Ravi:98\n",
      "Enter English marks for Ravi:88\n",
      "Enter the name of the student:Rahul\n",
      "Enter science marks for Rahul:90\n",
      "Rahul\n",
      "Enter Maths marks for Rahul:99\n",
      "Enter English marks for Rahul:89\n",
      "{'Ravi': {'Science': 89, 'Maths': 98, 'English': 88, 'Total': 275, 'Avg': 91.67}, 'Rahul': {'Science': 90, 'Maths': 99, 'English': 89, 'Total': 278, 'Avg': 92.67}}\n"
     ]
    }
   ],
   "source": [
    "num=int(input(\"Enter the number of students\"))\n",
    "details={}\n",
    "for i in range(num):\n",
    "    name=input(\"Enter the name of the student:\")\n",
    "    m_sci=int(input(\"Enter science marks for {}:\".format(name)))\n",
    "    print(name)\n",
    "    details[name]={}\n",
    "    details[name]['Science'] = m_sci\n",
    "    m_maths=int(input(\"Enter Maths marks for {}:\".format(name)))\n",
    "    details[name]['Maths']=m_maths\n",
    "    m_eng=int(input(\"Enter English marks for {}:\".format(name)))\n",
    "    details[name]['English']=m_eng\n",
    "    total=m_sci+m_maths+m_eng\n",
    "    avg=round(total/(len(details[name])),2)\n",
    "    details[name]['Total'] = total\n",
    "    details[name]['Avg'] = avg\n",
    "print(details)"
   ]
  },
  {
   "cell_type": "code",
   "execution_count": null,
   "metadata": {},
   "outputs": [],
   "source": [
    "num=int(input(\"Enter the number of stocks:\"))\n",
    "stocks={}\n",
    "for i in range(num):\n",
    "    name=input(\"Enter the name of the stock:\")\n",
    "    stocks[name]={}\n",
    "    price_open=int(input(\"Enter open price for {}:\".format(name)))\n",
    "    stocks[name]['open'] = price_open\n",
    "    price_close=int(input(\"Enter close price for {}:\".format(name)))\n",
    "    stocks[name]['close'] = price_close\n",
    "    price_high=int(input(\"Enter high price for {}:\".format(name)))\n",
    "    stocks[name]['high'] = price_high\n",
    "    price_low=int(input(\"Enter low price for {}:\".format(name)))\n",
    "    stocks[name]['low'] = price_low\n",
    "    \n",
    "print(stocks)"
   ]
  },
  {
   "cell_type": "code",
   "execution_count": 62,
   "metadata": {},
   "outputs": [],
   "source": [
    "import random"
   ]
  },
  {
   "cell_type": "code",
   "execution_count": 63,
   "metadata": {},
   "outputs": [],
   "source": [
    "x=[34,67,89]"
   ]
  },
  {
   "cell_type": "code",
   "execution_count": 69,
   "metadata": {},
   "outputs": [
    {
     "data": {
      "text/plain": [
       "[93.2, 152.6, 192.2]"
      ]
     },
     "execution_count": 69,
     "metadata": {},
     "output_type": "execute_result"
    }
   ],
   "source": [
    "[round(((i*1.8)+32),2) for i in x]"
   ]
  },
  {
   "cell_type": "code",
   "execution_count": 70,
   "metadata": {},
   "outputs": [
    {
     "data": {
      "text/plain": [
       "False"
      ]
     },
     "execution_count": 70,
     "metadata": {},
     "output_type": "execute_result"
    }
   ],
   "source": [
    "st=\"hello\"\n",
    "st.startswith"
   ]
  },
  {
   "cell_type": "code",
   "execution_count": null,
   "metadata": {},
   "outputs": [],
   "source": []
  }
 ],
 "metadata": {
  "kernelspec": {
   "display_name": "Python 3",
   "language": "python",
   "name": "python3"
  },
  "language_info": {
   "codemirror_mode": {
    "name": "ipython",
    "version": 3
   },
   "file_extension": ".py",
   "mimetype": "text/x-python",
   "name": "python",
   "nbconvert_exporter": "python",
   "pygments_lexer": "ipython3",
   "version": "3.7.6"
  },
  "widgets": {
   "application/vnd.jupyter.widget-state+json": {
    "state": {},
    "version_major": 2,
    "version_minor": 0
   }
  }
 },
 "nbformat": 4,
 "nbformat_minor": 4
}
