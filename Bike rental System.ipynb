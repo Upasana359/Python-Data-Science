{
 "cells": [
  {
   "cell_type": "code",
   "execution_count": 68,
   "metadata": {},
   "outputs": [],
   "source": [
    "class Inventory:\n",
    "    def __init__(self,no_bikes,no_bikes_rented,price_hourly,price_daily,price_weekly):\n",
    "        self.no_bikes=no_bikes\n",
    "        self.no_bikes_rented=no_bikes_rented\n",
    "        self.no_bikes_avail=self.no_bikes-no_bikes_rented\n",
    "        self.price_hourly=price_hourly\n",
    "        self.price_daily=price_daily\n",
    "        self.price_weekly=price_weekly\n",
    "        self.customer={}\n",
    "    \n",
    "    def show_inventory(self):\n",
    "        \n",
    "        print(\"Total number of available bikes are: {}\".format(self.no_bikes_avail))\n",
    "        print(\"The rental prices are:\\nHourly: {}$/hr\\nDaily: {}$/day\\nWeekly: {}$/week\".format(self.price_hourly,self.price_daily,self.price_weekly))\n",
    "        "
   ]
  },
  {
   "cell_type": "code",
   "execution_count": 69,
   "metadata": {},
   "outputs": [],
   "source": [
    "class Bike_rental(Inventory):\n",
    "    def __init__(self):\n",
    "        pass\n",
    "    \n",
    "    def rented(self,inv,cust_id,cust_name,no_bikes_rented,type_rent,time_rent,isitfamily):\n",
    "        inv.customer[cust_id]={}\n",
    "        inv.customer[cust_id][\"cust_name\"]=cust_name\n",
    "        inv.customer[cust_id][\"no_bikes_rented\"]=no_bikes_rented\n",
    "        inv.customer[cust_id][\"type_rent\"]=type_rent\n",
    "        inv.customer[cust_id][\"time_rent\"]=time_rent\n",
    "        inv.customer[cust_id][\"isitfamily\"]=isitfamily\n",
    "        print(\"Bike rented successfully!\")\n",
    "    \n",
    "    def returned(self,inv,cust_id,time_return):\n",
    "        inv.customer[cust_id][\"time_return\"]=time_return\n",
    "        inv.no_bikes_rented-=inv.customer[cust_id][\"no_bikes_rented\"]\n",
    "        self.billing(inv,cust_id,time_return)\n",
    "    \n",
    "    def billing(self,inv,cust_id,time_return):\n",
    "        total_time=round(self.calc_time(inv,cust_id,time_return),2)\n",
    "        if(inv.customer[cust_id][\"type_rent\"]==\"hourly\"):\n",
    "            total_bill=total_time*inv.price_hourly*inv.customer[cust_id][\"no_bikes_rented\"]\n",
    "            if(not inv.customer[cust_id][\"isitfamily\"]):\n",
    "                inv.customer[cust_id][\"total_bill\"]=round(total_bill,2)\n",
    "            else:\n",
    "                inv.customer[cust_id][\"total_bill\"]=round(0.7*total_bill,2)\n",
    "    \n",
    "        elif(inv.customer[cust_id][\"type_rent\"]==\"daily\"):\n",
    "            total_bill=total_time*inv.price_daily*inv.customer[cust_id][\"no_bikes_rented\"]\n",
    "            if(not inv.customer[cust_id][\"isitfamily\"]):\n",
    "                inv.customer[cust_id][\"total_bill\"]=round(total_bill,2)\n",
    "            else:\n",
    "                inv.customer[cust_id][\"total_bill\"]=round(0.7*total_bill,2)\n",
    "                \n",
    "        elif(inv.customer[cust_id][\"type_rent\"]==\"weekly\"):\n",
    "            total_bill=total_time*inv.price_weekly*inv.customer[cust_id][\"no_bikes_rented\"]\n",
    "            if(not inv.customer[cust_id][\"isitfamily\"]):\n",
    "                inv.customer[cust_id][\"total_bill\"]=round(total_bill,2)\n",
    "            else:\n",
    "                inv.customer[cust_id][\"total_bill\"]=round(0.7*total_bill,2)\n",
    "        print(\"Your total bill is {}$\".format(inv.customer[cust_id][\"total_bill\"]))\n",
    "    \n",
    "    def calc_time(self,inv,cust_id,time_return):\n",
    "        from datetime import datetime\n",
    "        ret_time = datetime(int(time_return[0]),int(time_return[1]),int(time_return[2]),int(time_return[3]),int(time_return[4]),int(time_return[5]))        \n",
    "        rent_time  =   inv.customer[cust_id][\"time_rent\"]                       \n",
    "        duration = ret_time - rent_time                        \n",
    "        duration_in_s = duration.total_seconds()\n",
    "        print(duration_in_s)\n",
    "        if  inv.customer[cust_id][\"type_rent\"]==\"hourly\":\n",
    "            return (duration_in_s/3600)\n",
    "        elif  inv.customer[cust_id][\"type_rent\"]==\"daily\":\n",
    "            return (duration_in_s/86400)\n",
    "        elif  inv.customer[cust_id][\"type_rent\"]==\"weekly\":\n",
    "            return (duration_in_s/86400)/7"
   ]
  },
  {
   "cell_type": "code",
   "execution_count": 70,
   "metadata": {},
   "outputs": [],
   "source": [
    "class Customer(Bike_rental,Inventory):\n",
    "    def __init__(self):\n",
    "        pass\n",
    "    \n",
    "    def add_customer(self,inv,bike,cust_name,no_bikes_rented,type_rent,isitfamily):\n",
    "        from datetime import datetime\n",
    "        cust_id=1\n",
    "        while(no_bikes_rented>inv.no_bikes_avail):\n",
    "            no_bikes_rented=int(input(\"Sorry! We don't have these many bikes available.Please enter a lesser number\"))       \n",
    "        if(inv.customer.keys()):\n",
    "            cust_id=list(inv.customer.keys())[-1] + 1\n",
    "        time_rent=datetime.now()\n",
    "        bike.rented(inv,cust_id,cust_name,no_bikes_rented,type_rent,time_rent,isitfamily)\n",
    "    \n",
    "    def get_cust_details(self,inv,bike):\n",
    "        cust_name=input(\"Enter the name of the customer: \")\n",
    "        no_bikes_rented=int(input(\"How many bikes do you want to rent? : \"))\n",
    "        type_rent=input(\"What kind of rental do you want? hourly/daily/weekly: \")\n",
    "        isitfamily=False\n",
    "        if(no_bikes_rented >3):\n",
    "            isitfamily=True\n",
    "        self.add_customer(inv,bike,cust_name,no_bikes_rented,type_rent,isitfamily)\n",
    "    \n",
    "    def gen_bill(self,bike,inv,cust_id):\n",
    "        time_ret=input(\"Enter the time of return: \")\n",
    "        time_return=time_ret.split()\n",
    "        bike.returned(inv,cust_id,time_return)"
   ]
  },
  {
   "cell_type": "code",
   "execution_count": 71,
   "metadata": {},
   "outputs": [],
   "source": [
    "inv1=Inventory(50,30,5,100,500)"
   ]
  },
  {
   "cell_type": "code",
   "execution_count": 72,
   "metadata": {},
   "outputs": [
    {
     "name": "stdout",
     "output_type": "stream",
     "text": [
      "Total number of available bikes are: 20\n",
      "The rental prices are:\n",
      "Hourly: 5$/hr\n",
      "Daily: 100$/day\n",
      "Weekly: 500$/week\n"
     ]
    }
   ],
   "source": [
    "inv1.show_inventory()"
   ]
  },
  {
   "cell_type": "code",
   "execution_count": null,
   "metadata": {},
   "outputs": [],
   "source": []
  },
  {
   "cell_type": "code",
   "execution_count": 66,
   "metadata": {},
   "outputs": [],
   "source": [
    "c1=Customer()"
   ]
  },
  {
   "cell_type": "code",
   "execution_count": 56,
   "metadata": {},
   "outputs": [],
   "source": [
    "b1=Bike_rental()"
   ]
  },
  {
   "cell_type": "code",
   "execution_count": 57,
   "metadata": {},
   "outputs": [
    {
     "name": "stdout",
     "output_type": "stream",
     "text": [
      "Enter the name of the customer: Upasana\n",
      "How many bikes do you want to rent? : 10\n",
      "What kind of rental do you want? hourly/daily/weekly: hourly\n",
      "Bike rented successfully!\n"
     ]
    }
   ],
   "source": [
    "c1.get_cust_details(inv1,b1)"
   ]
  },
  {
   "cell_type": "code",
   "execution_count": 60,
   "metadata": {},
   "outputs": [
    {
     "data": {
      "text/plain": [
       "{1: {'cust_name': 'Upasana',\n",
       "  'no_bikes_rented': 10,\n",
       "  'type_rent': 'hourly',\n",
       "  'time_rent': datetime.datetime(2021, 2, 17, 12, 18, 6, 198196),\n",
       "  'isitfamily': True,\n",
       "  'time_return': ['2021', '2', '17', '13', '15', '0', '0'],\n",
       "  'total_bill': 33.25}}"
      ]
     },
     "execution_count": 60,
     "metadata": {},
     "output_type": "execute_result"
    }
   ],
   "source": [
    "inv1.customer"
   ]
  },
  {
   "cell_type": "code",
   "execution_count": 59,
   "metadata": {},
   "outputs": [
    {
     "name": "stdout",
     "output_type": "stream",
     "text": [
      "Enter the time of return: 2021 2 17 13 15 0 0\n",
      "3413.801804\n",
      "0.95\n",
      "Your total bill is 33.25$\n"
     ]
    }
   ],
   "source": [
    "c1.gen_bill(b1,inv1,1)"
   ]
  },
  {
   "cell_type": "code",
   "execution_count": null,
   "metadata": {},
   "outputs": [],
   "source": []
  }
 ],
 "metadata": {
  "kernelspec": {
   "display_name": "Python 3",
   "language": "python",
   "name": "python3"
  },
  "language_info": {
   "codemirror_mode": {
    "name": "ipython",
    "version": 3
   },
   "file_extension": ".py",
   "mimetype": "text/x-python",
   "name": "python",
   "nbconvert_exporter": "python",
   "pygments_lexer": "ipython3",
   "version": "3.7.6"
  }
 },
 "nbformat": 4,
 "nbformat_minor": 4
}
